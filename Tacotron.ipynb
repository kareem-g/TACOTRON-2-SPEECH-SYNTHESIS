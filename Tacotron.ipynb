{
  "nbformat": 4,
  "nbformat_minor": 0,
  "metadata": {
    "colab": {
      "provenance": [],
      "toc_visible": true,
      "machine_shape": "hm",
      "include_colab_link": true
    },
    "kernelspec": {
      "display_name": "Python 3",
      "name": "python3"
    },
    "accelerator": "GPU"
  },
  "cells": [
    {
      "cell_type": "markdown",
      "metadata": {
        "id": "view-in-github",
        "colab_type": "text"
      },
      "source": [
        "<a href=\"https://colab.research.google.com/github/kareem-g/TACOTRON-2-SPEECH-SYNTHESIS/blob/main/Tacotron.ipynb\" target=\"_parent\"><img src=\"https://colab.research.google.com/assets/colab-badge.svg\" alt=\"Open In Colab\"/></a>"
      ]
    },
    {
      "cell_type": "markdown",
      "metadata": {
        "id": "CChDv7qYnmEq"
      },
      "source": [
        "## First Things First"
      ]
    },
    {
      "cell_type": "markdown",
      "metadata": {
        "id": "yGO3mDlcnvcW"
      },
      "source": [
        "#### Mount Google Drive"
      ]
    },
    {
      "cell_type": "code",
      "metadata": {
        "id": "MiRghEVInw2m",
        "colab": {
          "base_uri": "https://localhost:8080/"
        },
        "outputId": "8827e08a-1a70-4ac1-b5ea-3efe8fba168c"
      },
      "source": [
        "from google.colab import drive\n",
        "drive.mount('/content/drive')"
      ],
      "execution_count": 1,
      "outputs": [
        {
          "output_type": "error",
          "ename": "MessageError",
          "evalue": "ignored",
          "traceback": [
            "\u001b[0;31m---------------------------------------------------------------------------\u001b[0m",
            "\u001b[0;31mMessageError\u001b[0m                              Traceback (most recent call last)",
            "\u001b[0;32m<ipython-input-1-d5df0069828e>\u001b[0m in \u001b[0;36m<module>\u001b[0;34m\u001b[0m\n\u001b[1;32m      1\u001b[0m \u001b[0;32mfrom\u001b[0m \u001b[0mgoogle\u001b[0m\u001b[0;34m.\u001b[0m\u001b[0mcolab\u001b[0m \u001b[0;32mimport\u001b[0m \u001b[0mdrive\u001b[0m\u001b[0;34m\u001b[0m\u001b[0;34m\u001b[0m\u001b[0m\n\u001b[0;32m----> 2\u001b[0;31m \u001b[0mdrive\u001b[0m\u001b[0;34m.\u001b[0m\u001b[0mmount\u001b[0m\u001b[0;34m(\u001b[0m\u001b[0;34m'/content/drive'\u001b[0m\u001b[0;34m)\u001b[0m\u001b[0;34m\u001b[0m\u001b[0;34m\u001b[0m\u001b[0m\n\u001b[0m",
            "\u001b[0;32m/usr/local/lib/python3.8/dist-packages/google/colab/drive.py\u001b[0m in \u001b[0;36mmount\u001b[0;34m(mountpoint, force_remount, timeout_ms, readonly)\u001b[0m\n\u001b[1;32m     98\u001b[0m \u001b[0;32mdef\u001b[0m \u001b[0mmount\u001b[0m\u001b[0;34m(\u001b[0m\u001b[0mmountpoint\u001b[0m\u001b[0;34m,\u001b[0m \u001b[0mforce_remount\u001b[0m\u001b[0;34m=\u001b[0m\u001b[0;32mFalse\u001b[0m\u001b[0;34m,\u001b[0m \u001b[0mtimeout_ms\u001b[0m\u001b[0;34m=\u001b[0m\u001b[0;36m120000\u001b[0m\u001b[0;34m,\u001b[0m \u001b[0mreadonly\u001b[0m\u001b[0;34m=\u001b[0m\u001b[0;32mFalse\u001b[0m\u001b[0;34m)\u001b[0m\u001b[0;34m:\u001b[0m\u001b[0;34m\u001b[0m\u001b[0;34m\u001b[0m\u001b[0m\n\u001b[1;32m     99\u001b[0m   \u001b[0;34m\"\"\"Mount your Google Drive at the specified mountpoint path.\"\"\"\u001b[0m\u001b[0;34m\u001b[0m\u001b[0;34m\u001b[0m\u001b[0m\n\u001b[0;32m--> 100\u001b[0;31m   return _mount(\n\u001b[0m\u001b[1;32m    101\u001b[0m       \u001b[0mmountpoint\u001b[0m\u001b[0;34m,\u001b[0m\u001b[0;34m\u001b[0m\u001b[0;34m\u001b[0m\u001b[0m\n\u001b[1;32m    102\u001b[0m       \u001b[0mforce_remount\u001b[0m\u001b[0;34m=\u001b[0m\u001b[0mforce_remount\u001b[0m\u001b[0;34m,\u001b[0m\u001b[0;34m\u001b[0m\u001b[0;34m\u001b[0m\u001b[0m\n",
            "\u001b[0;32m/usr/local/lib/python3.8/dist-packages/google/colab/drive.py\u001b[0m in \u001b[0;36m_mount\u001b[0;34m(mountpoint, force_remount, timeout_ms, ephemeral, readonly)\u001b[0m\n\u001b[1;32m    121\u001b[0m       'TBE_EPHEM_CREDS_ADDR'] if ephemeral else _os.environ['TBE_CREDS_ADDR']\n\u001b[1;32m    122\u001b[0m   \u001b[0;32mif\u001b[0m \u001b[0mephemeral\u001b[0m\u001b[0;34m:\u001b[0m\u001b[0;34m\u001b[0m\u001b[0;34m\u001b[0m\u001b[0m\n\u001b[0;32m--> 123\u001b[0;31m     _message.blocking_request(\n\u001b[0m\u001b[1;32m    124\u001b[0m         'request_auth', request={'authType': 'dfs_ephemeral'}, timeout_sec=None)\n\u001b[1;32m    125\u001b[0m \u001b[0;34m\u001b[0m\u001b[0m\n",
            "\u001b[0;32m/usr/local/lib/python3.8/dist-packages/google/colab/_message.py\u001b[0m in \u001b[0;36mblocking_request\u001b[0;34m(request_type, request, timeout_sec, parent)\u001b[0m\n\u001b[1;32m    169\u001b[0m   request_id = send_request(\n\u001b[1;32m    170\u001b[0m       request_type, request, parent=parent, expect_reply=True)\n\u001b[0;32m--> 171\u001b[0;31m   \u001b[0;32mreturn\u001b[0m \u001b[0mread_reply_from_input\u001b[0m\u001b[0;34m(\u001b[0m\u001b[0mrequest_id\u001b[0m\u001b[0;34m,\u001b[0m \u001b[0mtimeout_sec\u001b[0m\u001b[0;34m)\u001b[0m\u001b[0;34m\u001b[0m\u001b[0;34m\u001b[0m\u001b[0m\n\u001b[0m",
            "\u001b[0;32m/usr/local/lib/python3.8/dist-packages/google/colab/_message.py\u001b[0m in \u001b[0;36mread_reply_from_input\u001b[0;34m(message_id, timeout_sec)\u001b[0m\n\u001b[1;32m    100\u001b[0m         reply.get('colab_msg_id') == message_id):\n\u001b[1;32m    101\u001b[0m       \u001b[0;32mif\u001b[0m \u001b[0;34m'error'\u001b[0m \u001b[0;32min\u001b[0m \u001b[0mreply\u001b[0m\u001b[0;34m:\u001b[0m\u001b[0;34m\u001b[0m\u001b[0;34m\u001b[0m\u001b[0m\n\u001b[0;32m--> 102\u001b[0;31m         \u001b[0;32mraise\u001b[0m \u001b[0mMessageError\u001b[0m\u001b[0;34m(\u001b[0m\u001b[0mreply\u001b[0m\u001b[0;34m[\u001b[0m\u001b[0;34m'error'\u001b[0m\u001b[0;34m]\u001b[0m\u001b[0;34m)\u001b[0m\u001b[0;34m\u001b[0m\u001b[0;34m\u001b[0m\u001b[0m\n\u001b[0m\u001b[1;32m    103\u001b[0m       \u001b[0;32mreturn\u001b[0m \u001b[0mreply\u001b[0m\u001b[0;34m.\u001b[0m\u001b[0mget\u001b[0m\u001b[0;34m(\u001b[0m\u001b[0;34m'data'\u001b[0m\u001b[0;34m,\u001b[0m \u001b[0;32mNone\u001b[0m\u001b[0;34m)\u001b[0m\u001b[0;34m\u001b[0m\u001b[0;34m\u001b[0m\u001b[0m\n\u001b[1;32m    104\u001b[0m \u001b[0;34m\u001b[0m\u001b[0m\n",
            "\u001b[0;31mMessageError\u001b[0m: Error: credential propagation was unsuccessful"
          ]
        }
      ]
    },
    {
      "cell_type": "markdown",
      "metadata": {
        "id": "m-qvazUJJkQ8"
      },
      "source": [
        "#### Check GPU"
      ]
    },
    {
      "cell_type": "code",
      "metadata": {
        "id": "84XlGdZ8JlcG"
      },
      "source": [
        "!nvidia-smi -L\n",
        "!nvidia-smi\n",
        "# You may need to reduce batch-size for T4, P4 and K80."
      ],
      "execution_count": null,
      "outputs": []
    },
    {
      "cell_type": "markdown",
      "metadata": {
        "id": "OE6J2QkT60No"
      },
      "source": [
        "\n",
        "\n",
        "---\n",
        "\n"
      ]
    },
    {
      "cell_type": "markdown",
      "metadata": {
        "id": "ZzHis1S9n0wr"
      },
      "source": [
        "## Install Tacotron2"
      ]
    },
    {
      "cell_type": "markdown",
      "metadata": {
        "id": "6pmgE4hltAZF"
      },
      "source": [
        "#### Setup Tacotron2"
      ]
    },
    {
      "cell_type": "code",
      "metadata": {
        "id": "IYoLSOKYtEO-"
      },
      "source": [
        "%cd /content/\n",
        "\n",
        "# Install Tacotron2\n",
        "!git clone https://github.com/NVIDIA/tacotron2.git\n",
        "%cd /content/tacotron2\n",
        "\n",
        "# Initialize submodules\n",
        "!git submodule init; git submodule update\n",
        "\n",
        "# Install dependencies\n",
        "!pip install tensorflow==1.15.2\n",
        "!pip install -q unidecode tensorboardX"
      ],
      "execution_count": null,
      "outputs": []
    },
    {
      "cell_type": "markdown",
      "metadata": {
        "id": "Ey09Tab3uX5A"
      },
      "source": [
        "#### Download Default Tacotron Model"
      ]
    },
    {
      "cell_type": "code",
      "metadata": {
        "id": "XRgbG5kFuaEQ"
      },
      "source": [
        "%cd /content/tacotron2\n",
        "\n",
        "# tacotron2_statedict.pt\n",
        "!gdown --id 1c5ZTuT7J08wLUoVZ2KkUs_VdZuJ86ZqA"
      ],
      "execution_count": null,
      "outputs": []
    },
    {
      "cell_type": "markdown",
      "metadata": {
        "id": "zY8NrTrd63OV"
      },
      "source": [
        "\n",
        "\n",
        "---\n",
        "\n"
      ]
    },
    {
      "cell_type": "markdown",
      "metadata": {
        "id": "InHYeH_vt_j_"
      },
      "source": [
        "## Generate Audio"
      ]
    },
    {
      "cell_type": "markdown",
      "metadata": {
        "id": "EN8dLnHQuIhA"
      },
      "source": [
        "#### Load Libraries"
      ]
    },
    {
      "cell_type": "code",
      "metadata": {
        "id": "VnYzFd9kuG6l"
      },
      "source": [
        "import matplotlib\n",
        "%matplotlib inline\n",
        "import matplotlib.pylab as plt\n",
        "\n",
        "import IPython.display as ipd\n",
        "\n",
        "import sys\n",
        "sys.path.append('waveglow')\n",
        "import numpy as np\n",
        "import torch\n",
        "\n",
        "from hparams import create_hparams\n",
        "from model import Tacotron2\n",
        "from layers import TacotronSTFT, STFT\n",
        "from audio_processing import griffin_lim\n",
        "from train import load_model\n",
        "from text import text_to_sequence\n",
        "from denoiser import Denoiser"
      ],
      "execution_count": null,
      "outputs": []
    },
    {
      "cell_type": "code",
      "metadata": {
        "id": "nFSkzQi1uL-_"
      },
      "source": [
        "def plot_data(data, figsize=(16, 4)):\n",
        "    fig, axes = plt.subplots(1, len(data), figsize=figsize)\n",
        "    for i in range(len(data)):\n",
        "        axes[i].imshow(data[i], aspect='auto', origin='bottom', \n",
        "                       interpolation='none')"
      ],
      "execution_count": null,
      "outputs": []
    },
    {
      "cell_type": "markdown",
      "metadata": {
        "id": "fGBdjBvZuOTw"
      },
      "source": [
        "#### Setup hparams"
      ]
    },
    {
      "cell_type": "code",
      "metadata": {
        "id": "9rtMxld7uQ8r"
      },
      "source": [
        "hparams = create_hparams()\n",
        "hparams.max_wav_value=32768.0\n",
        "hparams.sampling_rate = 22050\n",
        "hparams.filter_length=1024\n",
        "hparams.hop_length=256\n",
        "hparams.win_length=1024"
      ],
      "execution_count": null,
      "outputs": []
    },
    {
      "cell_type": "markdown",
      "metadata": {
        "id": "WcetGZZzuxon"
      },
      "source": [
        "#### Load Tacotron2 Model"
      ]
    },
    {
      "cell_type": "code",
      "metadata": {
        "id": "ciYjoNRDuzSW"
      },
      "source": [
        "#checkpoint_path = '/content/tacotron2/tacotron2_statedict.pt'\n",
        "checkpoint_path = '/content/drive/My Drive/tacotron2_checkpoints/tacotron_femalenord'\n",
        "model = load_model(hparams)\n",
        "model.load_state_dict(torch.load(checkpoint_path)['state_dict'])\n",
        "_ = model.cuda().eval().half()"
      ],
      "execution_count": null,
      "outputs": []
    },
    {
      "cell_type": "markdown",
      "metadata": {
        "id": "6830LEzLu3-W"
      },
      "source": [
        "#### Load Waveglow Model"
      ]
    },
    {
      "cell_type": "code",
      "metadata": {
        "id": "s7UyJHh0u55E"
      },
      "source": [
        "#waveglow_path = '/content/tacotron2/waveglow_256channels_universal_v5.pt'\n",
        "waveglow_path = '/content/drive/My Drive/waveglow_checkpoints/waveglow_femalenord'\n",
        "waveglow = torch.load(waveglow_path)['model']\n",
        "waveglow.cuda().eval().half()\n",
        "for k in waveglow.convinv:\n",
        "    k.float()\n",
        "denoiser = Denoiser(waveglow)"
      ],
      "execution_count": null,
      "outputs": []
    },
    {
      "cell_type": "markdown",
      "metadata": {
        "id": "uSfsQ3x-vpz9"
      },
      "source": [
        "#### Text Input"
      ]
    },
    {
      "cell_type": "code",
      "metadata": {
        "id": "o8CoULffvrRr"
      },
      "source": [
        "text = \"This is just a test.|~\"\n",
        "\n",
        "sequence = np.array(text_to_sequence(text, ['english_cleaners']))[None, :]\n",
        "sequence = torch.autograd.Variable(\n",
        "    torch.from_numpy(sequence)).cuda().long()"
      ],
      "execution_count": null,
      "outputs": []
    },
    {
      "cell_type": "markdown",
      "metadata": {
        "id": "xJGYKMUNv2QJ"
      },
      "source": [
        "#### Generate Mel Outputs"
      ]
    },
    {
      "cell_type": "code",
      "metadata": {
        "id": "n41dj40cv3x_"
      },
      "source": [
        "mel_outputs, mel_outputs_postnet, _, alignments = model.inference(sequence)\n",
        "plot_data((mel_outputs.float().data.cpu().numpy()[0],\n",
        "           mel_outputs_postnet.float().data.cpu().numpy()[0],\n",
        "           alignments.float().data.cpu().numpy()[0].T))"
      ],
      "execution_count": null,
      "outputs": []
    },
    {
      "cell_type": "markdown",
      "metadata": {
        "id": "yqxcacN7v4a4"
      },
      "source": [
        "#### Synthesize Audio"
      ]
    },
    {
      "cell_type": "code",
      "metadata": {
        "id": "Kw9FNDDcv_OB"
      },
      "source": [
        "with torch.no_grad():\n",
        "    audio = waveglow.infer(mel_outputs_postnet, sigma=0.85)     # sigma=1\n",
        "ipd.Audio(audio[0].data.cpu().numpy(), rate=hparams.sampling_rate)"
      ],
      "execution_count": null,
      "outputs": []
    },
    {
      "cell_type": "markdown",
      "metadata": {
        "id": "n6N7bKyawAEi"
      },
      "source": [
        "#### Denoise"
      ]
    },
    {
      "cell_type": "code",
      "metadata": {
        "id": "vPwv7MFdwA_-"
      },
      "source": [
        "audio_denoised = denoiser(audio, strength=0.006)[:, 0]    # strength=0.1\n",
        "ipd.Audio(audio_denoised.cpu().numpy(), rate=hparams.sampling_rate) "
      ],
      "execution_count": null,
      "outputs": []
    },
    {
      "cell_type": "markdown",
      "metadata": {
        "id": "FZdMM-O06w6Z"
      },
      "source": [
        "\n",
        "\n",
        "---\n",
        "\n"
      ]
    },
    {
      "cell_type": "markdown",
      "metadata": {
        "id": "ROA0MmcVwN5M"
      },
      "source": [
        "## Tacotron2 Training"
      ]
    },
    {
      "cell_type": "markdown",
      "metadata": {
        "id": "cAM3I5jn_7VR"
      },
      "source": [
        "#### Set Model Name"
      ]
    },
    {
      "cell_type": "code",
      "metadata": {
        "id": "Yz3JcC3S_8ym"
      },
      "source": [
        "# Removing {} will set checkpoints to be automatically overwritten.\n",
        "!sed -i -- 's,checkpoint_{},tacotron_femalenord,g' '/content/tacotron2/train.py'"
      ],
      "execution_count": null,
      "outputs": []
    },
    {
      "cell_type": "markdown",
      "metadata": {
        "id": "bwTao9lKMKhB"
      },
      "source": [
        "#### Configure hparams.py"
      ]
    },
    {
      "cell_type": "code",
      "metadata": {
        "id": "IqyyeuVLMNiW"
      },
      "source": [
        "# Training list file.\n",
        "!sed -i -- 's,filelists/ljs_audio_text_train_filelist.txt,/content/drive/MyDrive/filelists/femalenord_training.txt,g' '/content/tacotron2/hparams.py'\n",
        "\n",
        "# Validation list file.\n",
        "!sed -i -- 's,filelists/ljs_audio_text_val_filelist.txt,/content/drive/MyDrive/filelists/femalenord_validation.txt,g' '/content/tacotron2/hparams.py'\n",
        "\n",
        "# Increase epochs\n",
        "!sed -i -- 's,epochs=500,epochs=10000,g' '/content/tacotron2/hparams.py'\n",
        "\n",
        "# Save checkpoints every 200 steps.\n",
        "!sed -i -- 's,iters_per_checkpoint=1000,iters_per_checkpoint=200,g' '/content/tacotron2/hparams.py'\n",
        "\n",
        "# Reduce batch_size. If you get an 'Out Of Memory' error, reduce this further.\n",
        "!sed -i -- 's,batch_size=64,batch_size=35,g' '/content/tacotron2/hparams.py'\n",
        "\n",
        "# Reduce learning rate\n",
        "#!sed -i -- 's,learning_rate=1e-3,learning_rate=1e-4,g' '/content/tacotron2/hparams.py'"
      ],
      "execution_count": null,
      "outputs": []
    },
    {
      "cell_type": "markdown",
      "metadata": {
        "id": "OgyiJmstw6P1"
      },
      "source": [
        "#### Warm Start"
      ]
    },
    {
      "cell_type": "code",
      "metadata": {
        "id": "cOS9Z8a6w-HT"
      },
      "source": [
        "# This trains a new model off the default tacotron2_statedict.pt model.\n",
        "%cd /content/tacotron2\n",
        "!python3 train.py --output_directory='/content/drive/MyDrive/tacotron2_checkpoints' \\\n",
        "                     --log_directory='/content/drive/MyDrive/tacotron2_checkpoints/logdir' \\\n",
        "                     -c '/content/tacotron2/tacotron2_statedict.pt' --warm_start"
      ],
      "execution_count": null,
      "outputs": []
    },
    {
      "cell_type": "markdown",
      "metadata": {
        "id": "pD61cmM1xB9V"
      },
      "source": [
        "#### Resume Checkpoint"
      ]
    },
    {
      "cell_type": "code",
      "metadata": {
        "id": "RXj6ccfExD3E"
      },
      "source": [
        "# This continues training a model.\n",
        "%cd '/content/tacotron2'\n",
        "\n",
        "!python3 train.py --output_directory='/content/drive/MyDrive/tacotron2_checkpoints' \\\n",
        "                     --log_directory='/content/drive/MyDrive/tacotron2_checkpoints/logdir' \\\n",
        "                     -c '/content/drive/MyDrive/tacotron2_checkpoints/tacotron_femalenord'"
      ],
      "execution_count": null,
      "outputs": []
    },
    {
      "cell_type": "markdown",
      "metadata": {
        "id": "MLLSeFhn675i"
      },
      "source": [
        "\n",
        "\n",
        "---\n",
        "\n"
      ]
    },
    {
      "cell_type": "markdown",
      "metadata": {
        "id": "vK2lNhZByCOE"
      },
      "source": [
        "## WaveGlow Training"
      ]
    },
    {
      "cell_type": "markdown",
      "metadata": {
        "id": "JgiZJ70J26l8"
      },
      "source": [
        "#### Setup WaveGlow"
      ]
    },
    {
      "cell_type": "code",
      "metadata": {
        "id": "kFNWxtJM3Ay0"
      },
      "source": [
        "%cd /content/\n",
        "\n",
        "# Install WaveGlow\n",
        "!git clone https://github.com/NVIDIA/waveglow.git\n",
        "%cd /content/waveglow/\n",
        "!git clone https://github.com/NVIDIA/tacotron2\n",
        "\n",
        "# Initialize submodules\n",
        "!git submodule init; git submodule update\n",
        "\n",
        "# Install dependencies\n",
        "!pip install tensorflow==1.15.2\n",
        "!pip install -q unidecode tensorboardX"
      ],
      "execution_count": null,
      "outputs": []
    },
    {
      "cell_type": "markdown",
      "metadata": {
        "id": "21FPIqQf4FER"
      },
      "source": [
        "#### Download Default WaveGlow Model"
      ]
    },
    {
      "cell_type": "code",
      "metadata": {
        "id": "D2kDwcN34M3Z"
      },
      "source": [
        "%cd /content/waveglow/\n",
        "\n",
        "# waveglow_256channels_ljs_v2.pt\n",
        "!gdown --id 1WsibBTsuRg_SF2Z6L6NFRTT-NjEy1oTx"
      ],
      "execution_count": null,
      "outputs": []
    },
    {
      "cell_type": "markdown",
      "metadata": {
        "id": "u4R8rsWmhHqm"
      },
      "source": [
        "#### Set Model Name"
      ]
    },
    {
      "cell_type": "code",
      "metadata": {
        "id": "EDzwLuPAhH1o"
      },
      "source": [
        "# Removing {} will set checkpoints to be automatically overwritten.\n",
        "!sed -i -- 's,{}/waveglow_{},{}/waveglow_femalenord,g' '/content/waveglow/train.py'"
      ],
      "execution_count": null,
      "outputs": []
    },
    {
      "cell_type": "markdown",
      "metadata": {
        "id": "R1mdr16v4R0E"
      },
      "source": [
        "#### Set Things Up"
      ]
    },
    {
      "cell_type": "code",
      "metadata": {
        "id": "bHqr6MVe4TFD"
      },
      "source": [
        "# No Apex.\n",
        "!sed -i -- 's,fp16_run\": true,fp16_run\": false,g' '/content/waveglow/config.json'\n",
        "\n",
        "# Save checkpoints every 200 steps.\n",
        "!sed -i -- 's,\"iters_per_checkpoint\": 2000,\"iters_per_checkpoint\": 200,g' '/content/waveglow/config.json'\n",
        "\n",
        "# Make a list of .wav files in a text file.\n",
        "%cd /content/drive/MyDrive/femalenord\n",
        "!ls wavs/*.wav > /content/waveglow/train_files.txt\n",
        "\n",
        "# Save log files for Tensorbord.\n",
        "!sed -i -- 's,\"with_tensorboard\": false,\"with_tensorboard\": true,g' '/content/waveglow/config.json'\n",
        "\n",
        "# Make sure the text files contain the full paths to the .wav files.\n",
        "%cd /content/waveglow/\n",
        "!sed -i -- 's,wavs/,/content/drive/MyDrive/femalenord/wavs/,g' '/content/waveglow/train_files.txt'\n",
        "\n",
        "# Set train_files location.\n",
        "!sed -i -- 's,\"training_files\": \"train_files.txt\",\"training_files\": \"/content/waveglow/train_files.txt\",g' '/content/waveglow/config.json'\n",
        "\n",
        "# Set output directory of waveglow model.\n",
        "!sed -i -- 's,\"output_directory\": \"checkpoints\",\"output_directory\": \"/content/drive/MyDrive/waveglow_checkpoints\",g' '/content/waveglow/config.json'"
      ],
      "execution_count": null,
      "outputs": []
    },
    {
      "cell_type": "markdown",
      "metadata": {
        "id": "vn2tUKWX47Pk"
      },
      "source": [
        "#### Run This If Warm Start Training"
      ]
    },
    {
      "cell_type": "code",
      "metadata": {
        "id": "zPhALxdT5GnF"
      },
      "source": [
        "# waveglow_256channels_ljs_v2.pt needs to be converted first because it was trained on an older version of waveglow.\n",
        "%cd /content/waveglow/\n",
        "!python3 -W ignore convert_model.py '/content/waveglow/waveglow_256channels_ljs_v2.pt' '/content/waveglow/waveglow_256channels_ljs_v2.pt'"
      ],
      "execution_count": null,
      "outputs": []
    },
    {
      "cell_type": "code",
      "metadata": {
        "id": "gREvVADc5Ci0"
      },
      "source": [
        "!sed -i -- 's,\"checkpoint_path\": \"\",\"checkpoint_path\": \"/content/waveglow/waveglow_256channels_ljs_v2.pt\",g' '/content/waveglow/config.json'"
      ],
      "execution_count": null,
      "outputs": []
    },
    {
      "cell_type": "code",
      "metadata": {
        "id": "1S5kzVKHr8qK"
      },
      "source": [
        "# Modify train.py to start iteration at 0 because waveglow_256channels_universal_v5.pt lacks this info.\n",
        "#!sed -i -- 's,iteration = checkpoint_dict['iteration'],iteration = 0,g' '/content/waveglow/train.py'\n",
        "#!sed -i -- 's,optimizer.load_state_dict(checkpoint_dict['optimizer']),#optimizer.load_state_dict(checkpoint_dict[\\'optimizer\\']),g' '/content/waveglow/train.py'"
      ],
      "execution_count": null,
      "outputs": []
    },
    {
      "cell_type": "markdown",
      "metadata": {
        "id": "dtnoFp-74xkc"
      },
      "source": [
        "#### Run This If Resuming Training"
      ]
    },
    {
      "cell_type": "code",
      "metadata": {
        "id": "GhJOlGrA43pQ"
      },
      "source": [
        "# Set checkpoint_path to the existing model to resume training.\n",
        "!sed -i -- 's,\"checkpoint_path\": \"\",\"checkpoint_path\": \"/content/drive/MyDrive/waveglow_checkpoints/waveglow_femalenord\",g' '/content/waveglow/config.json'"
      ],
      "execution_count": null,
      "outputs": []
    },
    {
      "cell_type": "markdown",
      "metadata": {
        "id": "SVzfdS3O5d-F"
      },
      "source": [
        "#### Start Training"
      ]
    },
    {
      "cell_type": "code",
      "metadata": {
        "id": "Xs5xkAbj5f9x"
      },
      "source": [
        "%cd /content/waveglow\n",
        "!python3 -W ignore train.py -c '/content/waveglow/config.json'"
      ],
      "execution_count": null,
      "outputs": []
    },
    {
      "cell_type": "markdown",
      "metadata": {
        "id": "eQ9-LYG1myEY"
      },
      "source": [
        "\n",
        "\n",
        "---\n",
        "\n"
      ]
    },
    {
      "cell_type": "markdown",
      "metadata": {
        "id": "eYTz7HGp9-54"
      },
      "source": [
        "## Tensorboard"
      ]
    },
    {
      "cell_type": "markdown",
      "metadata": {
        "id": "BFKDhffY-JPK"
      },
      "source": [
        "#### Load Tensorboard Extension"
      ]
    },
    {
      "cell_type": "code",
      "metadata": {
        "id": "FQPIDYz--LOG"
      },
      "source": [
        "%load_ext tensorboard"
      ],
      "execution_count": null,
      "outputs": []
    },
    {
      "cell_type": "markdown",
      "metadata": {
        "id": "hfzL05Dn-WIP"
      },
      "source": [
        "#### Import Tensorflow and Datetime"
      ]
    },
    {
      "cell_type": "code",
      "metadata": {
        "id": "qLApqw1g-YJo"
      },
      "source": [
        "import tensorflow as tf\n",
        "import datetime, os"
      ],
      "execution_count": null,
      "outputs": []
    },
    {
      "cell_type": "markdown",
      "metadata": {
        "id": "7q5q2Vsr-f8l"
      },
      "source": [
        "#### Run Tensorboard for Tacotron"
      ]
    },
    {
      "cell_type": "code",
      "metadata": {
        "id": "Emr5YSsC-jol"
      },
      "source": [
        "%tensorboard --logdir '/content/drive/MyDrive/tacotron2_checkpoints/logdir'"
      ],
      "execution_count": null,
      "outputs": []
    },
    {
      "cell_type": "markdown",
      "metadata": {
        "id": "2O-slO0TRf8B"
      },
      "source": [
        "#### Run Tensorboard for WaveGlow"
      ]
    },
    {
      "cell_type": "code",
      "metadata": {
        "id": "aqbTpL65RiWs"
      },
      "source": [
        "%tensorboard --logdir '/content/drive/MyDrive/waveglow_checkpoints/logs'"
      ],
      "execution_count": null,
      "outputs": []
    }
  ]
}